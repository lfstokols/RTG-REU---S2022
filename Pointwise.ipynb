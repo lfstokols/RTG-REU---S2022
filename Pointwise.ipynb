import numpy as np

xsize = 101
ysize = 101

x,y = np.meshgrid(np.arange(0,1,100), np.arange(0,1,100))
xaxis = np.linspace(0,1,xsize)
yaxis = np.linspace(0,1,ysize)
#goes [0, 0.01, 0.02, .... , 1]

def u(x,y):
    return [x+y,x-y]

h = 0.01
def euler(x0):
#h is the step
#x0 is initial value
#defaults from t=0 to t=1, inclusive
    points = [x0]
    for i in range (1,101):
        xprev = points[i-1][0]
        yprev = points[i-1][1]
        xnew = xprev+h*u(xprev,yprev)[0]
        ynew = yprev + h*u(xprev,yprev)[1]
        xnew = xnew - np.floor(xnew)
        ynew = ynew - np.floor(ynew)
        pointnew = [xnew, ynew]
        points.append(pointnew)
    return points


result = euler([xaxis[:,None], yaxis[None,:]])
#result[timestep][x(0) or y(1)][index in x-grid][index in y-grid]
#print(result[100][0][100][100])

def trackPoint(xindex, yindex):
    arrayTrack = []
    arrayTrack.append([1/(xsize-1)*xindex, 1/(ysize-1)*yindex])
    for i in range (1,101):
        arrayTrack.append([result[i][0][xindex][yindex], result[i][1][xindex][yindex]])
    return arrayTrack


trackPoint(5,12)
