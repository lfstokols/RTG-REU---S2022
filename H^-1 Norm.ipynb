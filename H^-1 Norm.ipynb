{
 "cells": [
  {
   "cell_type": "code",
   "execution_count": 15,
   "metadata": {},
   "outputs": [
    {
     "name": "stdout",
     "output_type": "stream",
     "text": [
      "164.16801532552705\n"
     ]
    },
    {
     "data": {
      "image/png": "[encoded data removed]",
      "text/plain": [
       "<Figure size 432x288 with 1 Axes>"
      ]
     },
     "metadata": {
      "needs_background": "light"
     },
     "output_type": "display_data"
    }
   ],
   "source": [
    "import numpy as np\n",
    "from scipy.fft import fft\n",
    "from scipy.interpolate import griddata\n",
    "import cmath as cm\n",
    "import matplotlib.pyplot as plt\n",
    "\n",
    "data = '/Users/danielblock/Desktop/Duke/Sophomore Year/RTG/REU_Model_run_200x512x512.npy'\n",
    "res = 512\n",
    "\n",
    "def initial(x):\n",
    "    ini = np.ones((res, res))\n",
    "       #ini1, ini2 = np.meshgrid(np.linspace(1,1,512), np.linspace(1,1,512))\n",
    "    for i in range(res):\n",
    "        if i >= res/2:\n",
    "            ini[i] = 0.\n",
    "                #ini2[i] = 0.\n",
    "    return ini\n",
    "\n",
    "def h1(data, t, res):\n",
    "    #t must be less than the total number of timesteps\n",
    "    # define grid points\n",
    "    data = np.load(data)\n",
    "    data1 = data[t][0]\n",
    "    data2 = data[t][1]\n",
    "    datanew = initial(data1).flatten()\n",
    "    x, y = np.meshgrid(np.linspace(0, 1, res), np.linspace(0, 1, res))\n",
    "    dn = griddata((data1.flatten(), data2.flatten()), (datanew), (x, y), 'nearest').reshape(res,res)\n",
    "    # take fft of the points\n",
    "    data_ff = np.fft.fft2(dn-np.mean(dn))\n",
    "    xn = np.zeros((res,res))\n",
    "    # divide them by sqrt of j^2 + k^2 (where j and k are the indices of the array of grid points)\n",
    "    for j in range(res):\n",
    "        for k in range(res):\n",
    "            if (j**2+k**2 != 0):\n",
    "                xn[j,k] = abs(data_ff[j, k] / cm.sqrt((j**2) + (k**2)))\n",
    "            if (j==0 & k == 0):\n",
    "                xn[0,0] = abs(data_ff[0,0])\n",
    "    #this does skip the pair (0,0), which stays at zero, so i just added the original data_ff(0,0) unchanged\n",
    "    # square points, sum them all, and take sqrt again\n",
    "    xn1 = xn**2\n",
    "    #xn1 is a two dimensional array, NxN based on dimensions of the grid\n",
    "    x2 = sum(sum(xn1))/(res**2)\n",
    "    #total sum of all NxN elements\n",
    "    xf = np.sqrt(x2)\n",
    "    return xf\n",
    "\n",
    "\n",
    "h1norms = h1(data, 0, 512)\n",
    "print(h1norms)\n",
    "\n",
    "Scale = np.empty(200)\n",
    "for t in range(200):\n",
    "    Scale[t] = h1(data, t, res)\n",
    "    \n",
    "plt.plot(Scale)\n",
    "plt.show()"
   ]
  },
  {
   "cell_type": "code",
   "execution_count": 17,
   "metadata": {},
   "outputs": [
    {
     "data": {
      "text/plain": [
       "'/Users/danielblock/Desktop/Duke/Sophomore Year/RTG/REU_Model_run_200x512x512.npy'"
      ]
     },
     "execution_count": 17,
     "metadata": {},
     "output_type": "execute_result"
    }
   ],
   "source": []
  },
  {
   "cell_type": "code",
   "execution_count": null,
   "metadata": {},
   "outputs": [],
   "source": []
  }
 ],
 "metadata": {
  "kernelspec": {
   "display_name": "Python 3",
   "language": "python",
   "name": "python3"
  },
  "language_info": {
   "codemirror_mode": {
    "name": "ipython",
    "version": 3
   },
   "file_extension": ".py",
   "mimetype": "text/x-python",
   "name": "python",
   "nbconvert_exporter": "python",
   "pygments_lexer": "ipython3",
   "version": "3.7.6"
  }
 },
 "nbformat": 4,
 "nbformat_minor": 4
}
