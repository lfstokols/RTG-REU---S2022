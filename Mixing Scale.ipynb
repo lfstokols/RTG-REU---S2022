{
 "cells": [
  {
   "cell_type": "code",
   "execution_count": null,
   "id": "bde398f4",
   "metadata": {},
   "outputs": [],
   "source": [
    "import numpy as np\n",
    "\n",
    "#there are 2**2N squares of size 2**-N x 2**-N\n",
    "def mixing_scale(x_data, y_data, kappa):\n",
    "    mesh_size = 1/(2**N);\n",
    "    N = 1;\n",
    "    while(True):\n",
    "        x = 0;\n",
    "        for i in range(2**N):\n",
    "            y = 0;\n",
    "            for k in range(2**N);\n",
    "                function_Values = 0;\n",
    "                #this needs to change to fit data format\n",
    "                x_matches = np.where(np.logical_and(x_data>=x, x_data<(x+mesh_size)));\n",
    "                x_array = x_matches[0];\n",
    "                \n",
    "                y_matches = np.where(np.logical_and(y_data>=y, y_data<(y+mesh_size)));\n",
    "                y_array = y_matches[0];\n",
    "                \n",
    "                matches = set(x_array) & set(y_array);\n",
    "                numPoints = len(matches);\n",
    "                \n",
    "                for points in matches:\n",
    "                    function_Values += #initial data;\n",
    "        \n",
    "                if abs(function_Values/numPoints) > 1/kappa:\n",
    "                    return 1/(2**(N-1));\n",
    "                \n",
    "                y += 1/mesh_size;\n",
    "                \n",
    "            x += 1/mesh_size;\n",
    "            \n",
    "        N = N+1;\n",
    "        \n",
    "    \n",
    "    \n",
    "    \n",
    "    \n",
    "        \n"
   ]
  },
  {
   "cell_type": "code",
   "execution_count": null,
   "id": "957d0276",
   "metadata": {},
   "outputs": [],
   "source": []
  }
 ],
 "metadata": {
  "kernelspec": {
   "display_name": "Python 3 (ipykernel)",
   "language": "python",
   "name": "python3"
  },
  "language_info": {
   "codemirror_mode": {
    "name": "ipython",
    "version": 3
   },
   "file_extension": ".py",
   "mimetype": "text/x-python",
   "name": "python",
   "nbconvert_exporter": "python",
   "pygments_lexer": "ipython3",
   "version": "3.9.7"
  }
 },
 "nbformat": 4,
 "nbformat_minor": 5
}
