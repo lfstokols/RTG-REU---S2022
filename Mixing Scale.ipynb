{
 "cells": [
  {
   "cell_type": "code",
   "execution_count": 26,
   "id": "bde398f4",
   "metadata": {},
   "outputs": [],
   "source": [
    "import numpy as np\n",
    "\n",
    "#there are 2**2N squares of size 2**-N x 2**-N\n",
    "def mixing_scale(x_data, y_data, kappa):\n",
    "    array_Size = x_data.shape[0];\n",
    "    array_Size = array_Size/2;\n",
    "    N = 1;\n",
    "    while(True):\n",
    "        mesh_size = 1/(2**N);\n",
    "        x = 0;\n",
    "        for i in range(2**N):\n",
    "            y = 0;\n",
    "            for k in range(2**N):\n",
    "                function_Values = 0\n",
    "                \n",
    "                #this needs to change to fit data format\n",
    "                x_matches = np.where(np.logical_and(x_data>=x, x_data<(x+mesh_size)));\n",
    "                x_array = x_matches[0];\n",
    "                #print(x, x+mesh_size);\n",
    "                \n",
    "                \n",
    "                y_matches = np.where(np.logical_and(y_data>=y, y_data<(y+mesh_size)));\n",
    "                y_array = y_matches[0];\n",
    "                #print(y, y+mesh_size);\n",
    "                \n",
    "                matches = set(x_array) & set(y_array);\n",
    "                numPoints = len(matches);\n",
    "                #print(matches)\n",
    "                \n",
    "                if numPoints == 0:\n",
    "                    #print(\"Empty cell\");\n",
    "                    break;\n",
    "                \n",
    "                for points in matches:\n",
    "                    #print(points.shape);\n",
    "                    if(points <= array_Size):\n",
    "                        function_Values += 1;\n",
    "                    else:\n",
    "                        function_Values -= 1;\n",
    "        \n",
    "                if abs(function_Values/numPoints) > 1/kappa:\n",
    "                    return 1/(2**(N-1));\n",
    "                \n",
    "                y += mesh_size;     \n",
    "                \n",
    "            x += mesh_size;\n",
    "            \n",
    "        N = N+1;\n",
    "        #print(f\"The iteration is {N}.\");\n",
    "        \n",
    "    \n",
    "    \n",
    "    \n",
    "    \n",
    "        \n"
   ]
  },
  {
   "cell_type": "code",
   "execution_count": 76,
   "id": "957d0276",
   "metadata": {
    "scrolled": true
   },
   "outputs": [
    {
     "name": "stdout",
     "output_type": "stream",
     "text": [
      "[[0.         0.         0.         ... 0.         0.         0.        ]\n",
      " [0.01587302 0.01587302 0.01587302 ... 0.01587302 0.01587302 0.01587302]\n",
      " [0.03174603 0.03174603 0.03174603 ... 0.03174603 0.03174603 0.03174603]\n",
      " ...\n",
      " [0.96825397 0.96825397 0.96825397 ... 0.96825397 0.96825397 0.96825397]\n",
      " [0.98412698 0.98412698 0.98412698 ... 0.98412698 0.98412698 0.98412698]\n",
      " [1.         1.         1.         ... 1.         1.         1.        ]]\n"
     ]
    }
   ],
   "source": [
    "grid = np.load(\"/Users/saraazimi/RTG/REU_Model_run_200x64x64.npy\")\n",
    "print(grid[0, 1, :, :])"
   ]
  },
  {
   "cell_type": "code",
   "execution_count": null,
   "id": "37d78c25",
   "metadata": {},
   "outputs": [],
   "source": [
    "mixing_scale(grid[199,0,:,:], grid[199, 1, :,:], 3)"
   ]
  },
  {
   "cell_type": "code",
   "execution_count": null,
   "id": "c4e34352",
   "metadata": {},
   "outputs": [],
   "source": []
  }
 ],
 "metadata": {
  "kernelspec": {
   "display_name": "Python 3 (ipykernel)",
   "language": "python",
   "name": "python3"
  },
  "language_info": {
   "codemirror_mode": {
    "name": "ipython",
    "version": 3
   },
   "file_extension": ".py",
   "mimetype": "text/x-python",
   "name": "python",
   "nbconvert_exporter": "python",
   "pygments_lexer": "ipython3",
   "version": "3.9.7"
  }
 },
 "nbformat": 4,
 "nbformat_minor": 5
}
